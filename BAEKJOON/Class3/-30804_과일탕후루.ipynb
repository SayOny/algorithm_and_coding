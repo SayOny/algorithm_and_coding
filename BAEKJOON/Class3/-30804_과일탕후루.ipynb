{
 "cells": [
  {
   "cell_type": "markdown",
   "metadata": {},
   "source": [
    "문제\n",
    "\n",
    "은하는 긴 막대에 $N$개의 과일이 꽂혀있는 과일 탕후루를 만들었습니다. 과일의 각 종류에는 $1$부터 $9$까지의 번호가 붙어있고, 앞쪽부터 차례로 $S_1, S_2, \\cdots, S_N$번 과일이 꽂혀있습니다. 과일 탕후루를 다 만든 은하가 주문을 다시 확인해보니 과일을 두 종류 이하로 사용해달라는 요청이 있었습니다.\n",
    "\n",
    "탕후루를 다시 만들 시간이 없었던 은하는, 막대의 앞쪽과 뒤쪽에서 몇 개의 과일을 빼서 두 종류 이하의 과일만 남기기로 했습니다. 앞에서 $a$개, 뒤에서 $b$개의 과일을 빼면 $S_{a+1}, S_{a+2}, \\cdots, S_{N-b-1}, S_{N-b}$번 과일, 총 $N-(a+b)$개가 꽂혀있는 탕후루가 됩니다. $(0 \\le a, b;$ $a+b < N)$ \n",
    "\n",
    "이렇게 만들 수 있는 과일을 두 종류 이하로 사용한 탕후루 중에서, 과일의 개수가 가장 많은 탕후루의 과일 개수를 구하세요.\n",
    "\n",
    "입력\n",
    "\n",
    "첫 줄에 과일의 개수 $N$이 주어집니다. $(1 \\le N \\le 200\\,000)$ \n",
    "\n",
    "둘째 줄에 탕후루에 꽂힌 과일을 의미하는 $N$개의 정수 $S_1, \\cdots, S_N$이 공백으로 구분되어 주어집니다. $(1 \\le S_i \\le 9)$ \n",
    "\n",
    "출력\n",
    "\n",
    "문제의 방법대로 만들 수 있는 과일을 두 종류 이하로 사용한 탕후루 중에서, 과일의 개수가 가장 많은 탕후루의 과일 개수를 첫째 줄에 출력하세요."
   ]
  },
  {
   "cell_type": "code",
   "execution_count": null,
   "metadata": {},
   "outputs": [
    {
     "name": "stdout",
     "output_type": "stream",
     "text": [
      "2\n"
     ]
    }
   ],
   "source": [
    "from sys import stdin\n",
    "\n",
    "def input():\n",
    "    return stdin.readline().rstrip()\n",
    "\n",
    "N = int(input())\n",
    "\n",
    "f = list(map(int, input().split()))\n",
    "c = f.copy()\n",
    "t = []\n",
    "def tang(c):\n",
    "    if len(set(c)) <= 2:\n",
    "        t.append(len(c))\n",
    "        return\n",
    "\n",
    "    try:\n",
    "        tang(c[1:])\n",
    "        tang(c[:-1])\n",
    "    except:\n",
    "        pass\n",
    "    return\n",
    "\n",
    "tang(c)\n",
    "print(max(t))\n",
    "    "
   ]
  },
  {
   "cell_type": "code",
   "execution_count": null,
   "metadata": {},
   "outputs": [],
   "source": []
  }
 ],
 "metadata": {
  "kernelspec": {
   "display_name": "aitech",
   "language": "python",
   "name": "python3"
  },
  "language_info": {
   "codemirror_mode": {
    "name": "ipython",
    "version": 3
   },
   "file_extension": ".py",
   "mimetype": "text/x-python",
   "name": "python",
   "nbconvert_exporter": "python",
   "pygments_lexer": "ipython3",
   "version": "3.12.2"
  }
 },
 "nbformat": 4,
 "nbformat_minor": 2
}
