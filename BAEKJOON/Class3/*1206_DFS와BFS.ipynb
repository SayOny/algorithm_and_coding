{
 "cells": [
  {
   "cell_type": "markdown",
   "metadata": {},
   "source": [
    "문제\n",
    "\n",
    "그래프를 DFS로 탐색한 결과와 BFS로 탐색한 결과를 출력하는 프로그램을 작성하시오. 단, 방문할 수 있는 정점이 여러 개인 경우에는 정점 번호가 작은 것을 먼저 방문하고, 더 이상 방문할 수 있는 점이 없는 경우 종료한다. 정점 번호는 1번부터 N번까지이다.\n",
    "\n",
    "입력\n",
    "\n",
    "첫째 줄에 정점의 개수 N(1 ≤ N ≤ 1,000), 간선의 개수 M(1 ≤ M ≤ 10,000), 탐색을 시작할 정점의 번호 V가 주어진다. 다음 M개의 줄에는 간선이 연결하는 두 정점의 번호가 주어진다. 어떤 두 정점 사이에 여러 개의 간선이 있을 수 있다. 입력으로 주어지는 간선은 양방향이다.\n",
    "\n",
    "출력\n",
    "\n",
    "첫째 줄에 DFS를 수행한 결과를, 그 다음 줄에는 BFS를 수행한 결과를 출력한다. V부터 방문된 점을 순서대로 출력하면 된다."
   ]
  },
  {
   "cell_type": "code",
   "execution_count": 12,
   "metadata": {},
   "outputs": [
    {
     "name": "stdout",
     "output_type": "stream",
     "text": [
      "1 2 4 3\n",
      "1 2 3 4\n"
     ]
    }
   ],
   "source": [
    "from collections import deque\n",
    "\n",
    "N, M, V = map(int, input().split())\n",
    "\n",
    "graph = [[] for _ in range(N + 1)]\n",
    "\n",
    "for _ in range(M):\n",
    "    s, e = map(int, input().split())\n",
    "    graph[s].append(e)\n",
    "    graph[e].append(s)\n",
    "\n",
    "for adj in graph:\n",
    "    adj.sort()\n",
    "\n",
    "def dfs(node, visited):\n",
    "    visited[node] = True\n",
    "    dfs_order.append(node)\n",
    "    \n",
    "    for neighbor in graph[node]:\n",
    "        if not visited[neighbor]:\n",
    "            dfs(neighbor, visited)\n",
    "\n",
    "def bfs(start):\n",
    "    visited = [False] * (N + 1)\n",
    "    queue = deque([start])\n",
    "    visited[start] = True\n",
    "    bfs_order = []\n",
    "    \n",
    "    while queue:\n",
    "        node = queue.popleft()\n",
    "        bfs_order.append(node)\n",
    "        \n",
    "        for neighbor in graph[node]:\n",
    "            if not visited[neighbor]:\n",
    "                visited[neighbor] = True\n",
    "                queue.append(neighbor)\n",
    "    \n",
    "    return bfs_order\n",
    "\n",
    "dfs_order = []\n",
    "visited_dfs = [False] * (N + 1)\n",
    "dfs(V, visited_dfs)\n",
    "\n",
    "bfs_order = bfs(V)\n",
    "\n",
    "print(\" \".join(map(str, dfs_order)))\n",
    "print(\" \".join(map(str, bfs_order)))\n"
   ]
  },
  {
   "cell_type": "code",
   "execution_count": null,
   "metadata": {},
   "outputs": [],
   "source": []
  }
 ],
 "metadata": {
  "kernelspec": {
   "display_name": "aitech",
   "language": "python",
   "name": "python3"
  },
  "language_info": {
   "codemirror_mode": {
    "name": "ipython",
    "version": 3
   },
   "file_extension": ".py",
   "mimetype": "text/x-python",
   "name": "python",
   "nbconvert_exporter": "python",
   "pygments_lexer": "ipython3",
   "version": "3.12.2"
  }
 },
 "nbformat": 4,
 "nbformat_minor": 2
}
