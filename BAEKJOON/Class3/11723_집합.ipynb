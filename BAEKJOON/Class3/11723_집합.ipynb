{
 "cells": [
  {
   "cell_type": "markdown",
   "metadata": {},
   "source": [
    "문제\n",
    "\n",
    "비어있는 공집합 S가 주어졌을 때, 아래 연산을 수행하는 프로그램을 작성하시오.\n",
    "\n",
    "* add x: S에 x를 추가한다. (1 ≤ x ≤ 20) S에 x가 이미 있는 경우에는 연산을 무시한다.\n",
    "* remove x: S에서 x를 제거한다. (1 ≤ x ≤ 20) S에 x가 없는 경우에는 연산을 무시한다.\n",
    "* check x: S에 x가 있으면 1을, 없으면 0을 출력한다. (1 ≤ x ≤ 20)\n",
    "* toggle x: S에 x가 있으면 x를 제거하고, 없으면 x를 추가한다. (1 ≤ x ≤ 20)\n",
    "* all: S를 {1, 2, ..., 20} 으로 바꾼다.\n",
    "* empty: S를 공집합으로 바꾼다.\n",
    "\n",
    "입력\n",
    "\n",
    "첫째 줄에 수행해야 하는 연산의 수 M (1 ≤ M ≤ 3,000,000)이 주어진다.\n",
    "\n",
    "둘째 줄부터 M개의 줄에 수행해야 하는 연산이 한 줄에 하나씩 주어진다.\n",
    "\n",
    "출력\n",
    "\n",
    "check 연산이 주어질때마다, 결과를 출력한다.\n",
    "\n"
   ]
  },
  {
   "cell_type": "code",
   "execution_count": null,
   "metadata": {},
   "outputs": [],
   "source": [
    "import sys\n",
    "\n",
    "m = int(sys.stdin.readline())\n",
    "\n",
    "S = set()\n",
    "\n",
    "for _ in range(1, m+1):\n",
    "    tmp = sys.stdin.readline().strip().split()\n",
    "    if len(tmp) == 1:\n",
    "        if \"all\" == tmp[0]:\n",
    "            S.update(range(1, 21))\n",
    "        elif \"empty\" == tmp[0]:\n",
    "            S.clear()\n",
    "    else:\n",
    "        c, x = tmp[0], int(tmp[1])\n",
    "        if \"add\" in c:\n",
    "            S.add(x)\n",
    "        elif \"remove\" in c:\n",
    "            S.discard(x)\n",
    "        elif \"check\" in c:\n",
    "            if x in S:\n",
    "                print(1)\n",
    "            else:\n",
    "                print(0)\n",
    "        elif \"toggle\" in c:\n",
    "            if x in S:\n",
    "                S.discard(x)\n",
    "            else: \n",
    "                S.add(x)\n",
    "\n"
   ]
  },
  {
   "cell_type": "code",
   "execution_count": null,
   "metadata": {},
   "outputs": [],
   "source": []
  }
 ],
 "metadata": {
  "kernelspec": {
   "display_name": "aitech",
   "language": "python",
   "name": "python3"
  },
  "language_info": {
   "codemirror_mode": {
    "name": "ipython",
    "version": 3
   },
   "file_extension": ".py",
   "mimetype": "text/x-python",
   "name": "python",
   "nbconvert_exporter": "python",
   "pygments_lexer": "ipython3",
   "version": "3.12.2"
  }
 },
 "nbformat": 4,
 "nbformat_minor": 2
}
