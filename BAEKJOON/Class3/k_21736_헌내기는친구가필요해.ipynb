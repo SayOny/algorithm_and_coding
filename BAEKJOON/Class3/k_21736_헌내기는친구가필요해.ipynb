{
 "cells": [
  {
   "cell_type": "markdown",
   "metadata": {},
   "source": [
    "문제\n",
    "\n",
    "2020년에 입학한 헌내기 도연이가 있다. 도연이는 비대면 수업 때문에 학교에 가지 못해 학교에 아는 친구가 없었다. 드디어 대면 수업을 하게 된 도연이는 어서 캠퍼스 내의 사람들과 친해지고 싶다. \n",
    "\n",
    "도연이가 다니는 대학의 캠퍼스는 $N \\times M$ 크기이며 캠퍼스에서 이동하는 방법은 벽이 아닌 상하좌우로 이동하는 것이다. 예를 들어, 도연이가 ($x$, $y$)에 있다면 이동할 수 있는 곳은 ($x+1$, $y$), ($x$, $y+1$), ($x-1$, $y$), ($x$, $y-1$)이다. 단, 캠퍼스의 밖으로 이동할 수는 없다.\n",
    "\n",
    "불쌍한 도연이를 위하여 캠퍼스에서 도연이가 만날 수 있는 사람의 수를 출력하는 프로그램을 작성해보자.\n",
    "\n",
    "입력\n",
    "\n",
    "첫째 줄에는 캠퍼스의 크기를 나타내는 두 정수 $N$ ($ 1 \\leq N \\leq 600$), $M$ ($ 1 \\leq M \\leq 600$)이 주어진다.\n",
    "\n",
    "둘째 줄부터 $N$개의 줄에는 캠퍼스의 정보들이 주어진다. O는 빈 공간, X는 벽, I는 도연이, P는 사람이다. I가 한 번만 주어짐이 보장된다.\n",
    "\n",
    "출력\n",
    "\n",
    "첫째 줄에 도연이가 만날 수 있는 사람의 수를 출력한다. 단, 아무도 만나지 못한 경우 TT를 출력한다.\n",
    "\n"
   ]
  },
  {
   "cell_type": "code",
   "execution_count": 27,
   "metadata": {},
   "outputs": [
    {
     "name": "stdout",
     "output_type": "stream",
     "text": [
      "TT\n"
     ]
    }
   ],
   "source": [
    "from collections import deque\n",
    "\n",
    "N, M = map(int, input().split())\n",
    "campus = []\n",
    "cnt = 0\n",
    "\n",
    "for k in range(N):\n",
    "    l = list(input())\n",
    "    campus.append(l)\n",
    "    if \"I\" in l:\n",
    "        i = (k, l.index(\"I\"))\n",
    "\n",
    "\n",
    "def bfs(graph, start):\n",
    "    queue = deque()\n",
    "    queue.append(start)\n",
    "\n",
    "    visited = set()\n",
    "    visited.add(start)\n",
    "\n",
    "    def determine(x, y):\n",
    "        global cnt\n",
    "        try:\n",
    "            if (x, y) not in visited and x>=0 and y >= 0:\n",
    "                if graph[x][y] == \"O\":\n",
    "                    queue.append((x, y))\n",
    "                elif graph[x][y] == \"P\":\n",
    "                    cnt += 1\n",
    "                    queue.append((x, y))\n",
    "                visited.add((x, y))\n",
    "        except:\n",
    "            pass\n",
    "\n",
    "    while queue:\n",
    "        x, y = queue.popleft()\n",
    "        determine(x+1, y)\n",
    "        determine(x, y+1)\n",
    "        determine(x-1, y)\n",
    "        determine(x, y-1)\n",
    "\n",
    "\n",
    "bfs(campus, i)\n",
    "if cnt>0: print(cnt)\n",
    "else: print(\"TT\")"
   ]
  },
  {
   "cell_type": "code",
   "execution_count": null,
   "metadata": {},
   "outputs": [],
   "source": []
  }
 ],
 "metadata": {
  "kernelspec": {
   "display_name": "aitech",
   "language": "python",
   "name": "python3"
  },
  "language_info": {
   "codemirror_mode": {
    "name": "ipython",
    "version": 3
   },
   "file_extension": ".py",
   "mimetype": "text/x-python",
   "name": "python",
   "nbconvert_exporter": "python",
   "pygments_lexer": "ipython3",
   "version": "3.12.2"
  }
 },
 "nbformat": 4,
 "nbformat_minor": 2
}
