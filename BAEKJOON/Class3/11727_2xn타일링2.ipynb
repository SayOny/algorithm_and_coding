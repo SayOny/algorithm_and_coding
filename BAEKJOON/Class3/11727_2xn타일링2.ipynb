{
 "cells": [
  {
   "cell_type": "markdown",
   "metadata": {},
   "source": [
    "문제\n",
    "\n",
    "2×n 직사각형을 1×2, 2×1과 2×2 타일로 채우는 방법의 수를 구하는 프로그램을 작성하시오.\n",
    "\n",
    "아래 그림은 2×17 직사각형을 채운 한가지 예이다.\n",
    "\n",
    "\n",
    "\n",
    "입력\n",
    "\n",
    "첫째 줄에 n이 주어진다. (1 ≤ n ≤ 1,000)\n",
    "\n",
    "출력\n",
    "\n",
    "첫째 줄에 2×n 크기의 직사각형을 채우는 방법의 수를 10,007로 나눈 나머지를 출력한다."
   ]
  },
  {
   "cell_type": "code",
   "execution_count": 4,
   "metadata": {},
   "outputs": [
    {
     "name": "stdout",
     "output_type": "stream",
     "text": [
      "2731\n"
     ]
    }
   ],
   "source": [
    "n = int(input())\n",
    "\n",
    "dp = [0]*1001\n",
    "dp[0] = 1\n",
    "dp[1] = 1\n",
    "\n",
    "'''\n",
    "1x2를 선택하면 두 개가 필요\n",
    "2x1는 하나가 있어도 됨\n",
    "2x2는 하나가 있어도 되지만 두 칸의 행이 필요\n",
    "'''\n",
    "\n",
    "for i in range(2, n+1):\n",
    "    dp[i] = (dp[i-1] + dp[i-2] + dp[i-2]) % 10007\n",
    "\n",
    "print(dp[n])\n"
   ]
  },
  {
   "cell_type": "code",
   "execution_count": null,
   "metadata": {},
   "outputs": [],
   "source": []
  }
 ],
 "metadata": {
  "kernelspec": {
   "display_name": "aitech",
   "language": "python",
   "name": "python3"
  },
  "language_info": {
   "codemirror_mode": {
    "name": "ipython",
    "version": 3
   },
   "file_extension": ".py",
   "mimetype": "text/x-python",
   "name": "python",
   "nbconvert_exporter": "python",
   "pygments_lexer": "ipython3",
   "version": "3.12.2"
  }
 },
 "nbformat": 4,
 "nbformat_minor": 2
}
