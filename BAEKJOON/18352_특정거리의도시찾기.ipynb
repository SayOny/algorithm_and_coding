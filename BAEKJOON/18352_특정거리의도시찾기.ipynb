{
 "cells": [
  {
   "cell_type": "markdown",
   "metadata": {},
   "source": [
    "# 18352 특정 거리의 도시 찾기\n",
    "\n",
    "### 문제\n",
    "어떤 나라에는 1번부터 N번까지의 도시와 M개의 단방향 도로가 존재한다. 모든 도로의 거리는 1이다.\n",
    "\n",
    "이 때 특정한 도시 X로부터 출발하여 도달할 수 있는 모든 도시 중에서, 최단 거리가 정확히 K인 모든 도시들의 번호를 출력하는 프로그램을 작성하시오. 또한 출발 도시 X에서 출발 도시 X로 가는 최단 거리는 항상 0이라고 가정한다.\n",
    "\n",
    "예를 들어 N=4, K=2, X=1일 때 다음과 같이 그래프가 구성되어 있다고 가정하자.\n",
    "\n",
    "<img src=\"https://github.com/user-attachments/assets/2ce47454-15c9-43b0-989c-c497f4aa477e\" width=\"200\" height=\"200\">\n",
    "\n",
    "\n",
    "이 때 1번 도시에서 출발하여 도달할 수 있는 도시 중에서, 최단 거리가 2인 도시는 4번 도시 뿐이다.  2번과 3번 도시의 경우, 최단 거리가 1이기 때문에 출력하지 않는다.\n",
    "\n",
    "### 입력\n",
    "첫째 줄에 도시의 개수 N, 도로의 개수 M, 거리 정보 K, 출발 도시의 번호 X가 주어진다. (2 ≤ N ≤ 300,000, 1 ≤ M ≤ 1,000,000, 1 ≤ K ≤ 300,000, 1 ≤ X ≤ N) \n",
    "\n",
    "둘째 줄부터 M개의 줄에 걸쳐서 두 개의 자연수 A, B가 공백을 기준으로 구분되어 주어진다. 이는 A번 도시에서 B번 도시로 이동하는 단방향 도로가 존재한다는 의미다. (1 ≤ A, B ≤ N) 단, A와 B는 서로 다른 자연수이다.\n",
    "\n",
    "### 출력\n",
    "X로부터 출발하여 도달할 수 있는 도시 중에서, 최단 거리가 K인 모든 도시의 번호를 한 줄에 하나씩 오름차순으로 출력한다.\n",
    "\n",
    "이 때 도달할 수 있는 도시 중에서, 최단 거리가 K인 도시가 하나도 존재하지 않으면 -1을 출력한다."
   ]
  },
  {
   "cell_type": "code",
   "execution_count": null,
   "metadata": {},
   "outputs": [],
   "source": [
    "# 정답 bfs\n",
    "\n",
    "import sys\n",
    "from collections import deque\n",
    "\n",
    "n, m, k, x = map(int, sys.stdin.readline().split())\n",
    "graph = [[] for _ in range(n+1)]\n",
    "visited = [False] * (n+1)\n",
    "\n",
    "for _ in range(m):\n",
    "    a, b = map(int, sys.stdin.readline().split())\n",
    "    graph[a].append(b)\n",
    "\n",
    "\n",
    "cities = []\n",
    "q = deque([(x, 0)])\n",
    "visited[x] = True\n",
    "\n",
    "while q:\n",
    "    x, dist = q.popleft()\n",
    "\n",
    "    if dist == k:\n",
    "        cities.append(x)\n",
    "        continue\n",
    "    \n",
    "    for i in graph[x]:\n",
    "        if not visited[i]: # 결국 x로 부터 어떤 노드를 방문하기 위한 최소 거리(값, 가중치)는 탐색을 통해 먼저 방문된 경우에 정해질 것. 따라서 이후에는 방문할 필요가 없음. 그래서 방문하지 않은 노드에 대해서만 큐에 삽입.\n",
    "            visited[i] = True \n",
    "            q.append((i, dist+1))\n",
    "\n",
    "answer = sorted(cities)\n",
    "\n",
    "print(*answer, sep=\"\\n\") if answer else print(-1)\n"
   ]
  },
  {
   "cell_type": "code",
   "execution_count": null,
   "metadata": {},
   "outputs": [],
   "source": [
    "# 메모리 초과\n",
    "\n",
    "import sys\n",
    "import heapq\n",
    "\n",
    "n, m, k, x = map(int, sys.stdin.readline().split())\n",
    "\n",
    "# 엣지 정보 입력 받기\n",
    "graph = {i: [] for i in range(1, n + 1)}\n",
    "for _ in range(m):\n",
    "    a, b = map(int, sys.stdin.readline().split())\n",
    "    graph[a].append(b)\n",
    "\n",
    "distances = [float('inf')] * (n + 1)\n",
    "distances[x] = 0\n",
    "\n",
    "pq = [(0, x)]  # (최단 거리, 도시 번호)\n",
    "\n",
    "while pq:\n",
    "    cur_dist, cur_node = heapq.heappop(pq)\n",
    "\n",
    "    if cur_dist > distances[cur_node]: continue\n",
    "\n",
    "    for neighbor in graph[cur_node]:\n",
    "        distances[neighbor] = min(distances[neighbor], cur_dist + 1)\n",
    "        heapq.heappush(pq, (distances[neighbor], neighbor))\n",
    "\n",
    "cities = [i for i in range(1, n + 1) if distances[i] == k]\n",
    "\n",
    "print(*(cities)) if cities else print(-1)\n"
   ]
  },
  {
   "cell_type": "code",
   "execution_count": null,
   "metadata": {},
   "outputs": [
    {
     "name": "stdout",
     "output_type": "stream",
     "text": [
      "안뇽하세요 저는 1 0 입니다.\n",
      "2 로 들어갑니다.\n",
      "안뇽하세요 저는 2 1 입니다.\n",
      "3 로 들어갑니다.\n",
      "안뇽하세요 저는 3 2 입니다.\n",
      "3 를 추가할게용\n",
      "4 로 들어갑니다.\n",
      "안뇽하세요 저는 4 2 입니다.\n",
      "4 를 추가할게용\n",
      "3 로 들어갑니다.\n",
      "안뇽하세요 저는 3 1 입니다.\n"
     ]
    }
   ],
   "source": [
    "# 걍 k로 가는 모든 도시를 추가하는 방법 (최단이 아닌 방법)\n",
    "\n",
    "def find_city(s, k_now):\n",
    "    print('안뇽하세요 저는',s, k_now, \"입니다.\")\n",
    "    if k_now == k:\n",
    "        print(s, \"를 추가할게용\")\n",
    "        return\n",
    "    \n",
    "    for i in graph[s]:\n",
    "        print(i, \"로 들어갑니다.\")\n",
    "        find_city(i, k_now+1)\n",
    "\n",
    "\n",
    "find_city(x, 0)"
   ]
  },
  {
   "cell_type": "markdown",
   "metadata": {},
   "source": [
    "알게된 점:\n",
    "\n",
    "input()만 쓰면 시간 초과;;;;;;;;;;\n",
    "\n",
    "아 정말 너무 어렵다 진짜 어렵다 진짜 어렵다"
   ]
  }
 ],
 "metadata": {
  "kernelspec": {
   "display_name": "aitech",
   "language": "python",
   "name": "python3"
  },
  "language_info": {
   "codemirror_mode": {
    "name": "ipython",
    "version": 3
   },
   "file_extension": ".py",
   "mimetype": "text/x-python",
   "name": "python",
   "nbconvert_exporter": "python",
   "pygments_lexer": "ipython3",
   "version": "3.12.7"
  }
 },
 "nbformat": 4,
 "nbformat_minor": 2
}
