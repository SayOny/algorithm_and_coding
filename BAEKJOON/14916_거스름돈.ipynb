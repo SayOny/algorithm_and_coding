{
 "cells": [
  {
   "cell_type": "markdown",
   "metadata": {},
   "source": [
    "# 14916 거스름돈\n",
    " \n",
    "### 문제\n",
    "춘향이는 편의점 카운터에서 일한다.\n",
    "\n",
    "손님이 2원짜리와 5원짜리로만 거스름돈을 달라고 한다. 2원짜리 동전과 5원짜리 동전은 무한정 많이 가지고 있다. 동전의 개수가 최소가 되도록 거슬러 주어야 한다. 거스름돈이 n인 경우, 최소 동전의 개수가 몇 개인지 알려주는 프로그램을 작성하시오.\n",
    "\n",
    "예를 들어, 거스름돈이 15원이면 5원짜리 3개를, 거스름돈이 14원이면 5원짜리 2개와 2원짜리 2개로 총 4개를, 거스름돈이 13원이면 5원짜리 1개와 2원짜리 4개로 총 5개를 주어야 동전의 개수가 최소가 된다.\n",
    "\n",
    "### 입력\n",
    "첫째 줄에 거스름돈 액수 n(1 ≤ n ≤ 100,000)이 주어진다.\n",
    "\n",
    "### 출력\n",
    "거스름돈 동전의 최소 개수를 출력한다. 만약 거슬러 줄 수 없으면 -1을 출력한다."
   ]
  },
  {
   "cell_type": "markdown",
   "metadata": {},
   "source": [
    "1. DP로 푸는 법 (Bottom-up)\n",
    "\n",
    "dp의  특징\n",
    "* 중복 계산하지 않음\n",
    "* Memoization: 재귀하며 계산된 값을 저장하고 나중에 다시 이용함\n",
    "* Tabulation: 반복하면서 계산 및 저장\n"
   ]
  },
  {
   "cell_type": "code",
   "execution_count": null,
   "metadata": {},
   "outputs": [
    {
     "name": "stdout",
     "output_type": "stream",
     "text": [
      "지금은 5\n",
      "5 원일 때: 1 개\n",
      "6 원일 때: inf 개\n",
      "7 원일 때: inf 개\n",
      "8 원일 때: inf 개\n",
      "9 원일 때: inf 개\n",
      "10 원일 때: 2 개\n",
      "11 원일 때: inf 개\n",
      "12 원일 때: inf 개\n",
      "13 원일 때: inf 개\n",
      "지금은 2\n",
      "2 원일 때: 1 개\n",
      "3 원일 때: inf 개\n",
      "4 원일 때: 2 개\n",
      "5 원일 때: 1 개\n",
      "6 원일 때: 3 개\n",
      "7 원일 때: 2 개\n",
      "8 원일 때: 4 개\n",
      "9 원일 때: 3 개\n",
      "10 원일 때: 2 개\n",
      "11 원일 때: 4 개\n",
      "12 원일 때: 3 개\n",
      "13 원일 때: 5 개\n",
      "5\n"
     ]
    }
   ],
   "source": [
    "total_change = int(input())\n",
    "\n",
    "def cal_change():\n",
    "    changes = [float('inf')] * (total_change + 1) # DP의 핵심\n",
    "    changes[0] = 0  \n",
    "\n",
    "    for coin in [5, 2]:\n",
    "        # print(\"지금은\", coin)\n",
    "        for i in range(coin, total_change + 1):\n",
    "            changes[i] = min(changes[i], changes[i - coin] + 1)\n",
    "            # print(i, \"원일 때:\", changes[i], \"개\")\n",
    "\n",
    "    if changes[total_change] == float('inf'):\n",
    "        return -1\n",
    "    else:\n",
    "        return changes[total_change]\n",
    "\n",
    "print(cal_change())"
   ]
  },
  {
   "cell_type": "markdown",
   "metadata": {},
   "source": [
    "2. 재귀 함수로 푸는 법 (Top-down, 근데 dp는 아님)"
   ]
  },
  {
   "cell_type": "code",
   "execution_count": null,
   "metadata": {},
   "outputs": [],
   "source": [
    "total_change = int(input())\n",
    "c5 = total_change//5\n",
    "\n",
    "def cal_change(five):\n",
    "    rest = five*5\n",
    "    remain_changes = total_change - rest\n",
    "    c2 = remain_changes//2\n",
    "\n",
    "    if (total_change == rest+(c2*2)):\n",
    "        num_coin = five + c2\n",
    "        return num_coin\n",
    "    else: \n",
    "        if(five-1 < 0):\n",
    "            return -1\n",
    "        return cal_change(five-1)\n",
    "\n",
    "print(cal_change(c5))"
   ]
  }
 ],
 "metadata": {
  "kernelspec": {
   "display_name": "aitech",
   "language": "python",
   "name": "python3"
  },
  "language_info": {
   "codemirror_mode": {
    "name": "ipython",
    "version": 3
   },
   "file_extension": ".py",
   "mimetype": "text/x-python",
   "name": "python",
   "nbconvert_exporter": "python",
   "pygments_lexer": "ipython3",
   "version": "3.12.7"
  }
 },
 "nbformat": 4,
 "nbformat_minor": 2
}
