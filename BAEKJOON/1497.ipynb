{
 "cells": [
  {
   "cell_type": "markdown",
   "metadata": {},
   "source": [
    "# 기타콘서트\n",
    "\n",
    "백트래킹"
   ]
  },
  {
   "cell_type": "code",
   "execution_count": 10,
   "metadata": {},
   "outputs": [],
   "source": [
    "n, m = map(int, input().split())\n",
    "guitars = [list(input().split()[1]) for _ in range(n)]\n",
    "for _ in range(n):\n",
    "    list(input().split()[1])"
   ]
  },
  {
   "cell_type": "code",
   "execution_count": 14,
   "metadata": {},
   "outputs": [
    {
     "data": {
      "text/plain": [
       "[['Y', 'Y', 'Y', 'N', 'N'],\n",
       " ['Y', 'Y', 'N', 'N', 'Y'],\n",
       " ['N', 'N', 'N', 'Y', 'Y'],\n",
       " ['Y', 'N', 'N', 'N', 'N']]"
      ]
     },
     "execution_count": 14,
     "metadata": {},
     "output_type": "execute_result"
    }
   ],
   "source": [
    "guitars"
   ]
  },
  {
   "cell_type": "code",
   "execution_count": 19,
   "metadata": {},
   "outputs": [],
   "source": [
    "indices = [[i for i, value in enumerate(sublist) if value == 'Y'] for sublist in guitars]\n"
   ]
  },
  {
   "cell_type": "code",
   "execution_count": 20,
   "metadata": {},
   "outputs": [
    {
     "data": {
      "text/plain": [
       "[[0, 1, 2], [0, 1, 4], [3, 4], [0]]"
      ]
     },
     "execution_count": 20,
     "metadata": {},
     "output_type": "execute_result"
    }
   ],
   "source": [
    "indices"
   ]
  },
  {
   "cell_type": "markdown",
   "metadata": {},
   "source": []
  },
  {
   "cell_type": "code",
   "execution_count": 24,
   "metadata": {},
   "outputs": [],
   "source": [
    "\n",
    "min = float('inf')"
   ]
  },
  {
   "cell_type": "code",
   "execution_count": 25,
   "metadata": {},
   "outputs": [],
   "source": [
    "def find_combinations(start, selected_count, current_songs):\n",
    "    if current_songs == set(range(n)):\n",
    "        return selected_count\n",
    "    \n",
    "    with_current = find_combinations(start + 1, selected_count + 1, current_songs | set(indices[start]))\n",
    "    \n",
    "    without_current = find_combinations(start + 1, selected_count, current_songs)\n",
    "\n",
    "    return min(with_current, without_current)"
   ]
  },
  {
   "cell_type": "code",
   "execution_count": null,
   "metadata": {},
   "outputs": [],
   "source": [
    "result = find_combinations(0, 0, set())"
   ]
  },
  {
   "cell_type": "code",
   "execution_count": null,
   "metadata": {},
   "outputs": [],
   "source": [
    "n, m = map(int, input().split())\n",
    "\n",
    "guitars = [input().split()[1] for _ in range(n)]\n",
    "\n",
    "min_guitars = float('inf')\n",
    "\n",
    "# 함수에서 전역 변수를 사용하기 위해서는\n",
    "# 참조만 하려면 그냥 가능\n",
    "# 값을 변경하려면 global로 정의해주어야 한다.\n",
    "def find_min_guitars(start, selected_guitars):\n",
    "    global min_guitars\n",
    "\n",
    "    # 기타 셀렉션을 다 하면\n",
    "    if start >= len(guitars):\n",
    "        possible_songs = set()\n",
    "        for guitar_idx in selected_guitars:\n",
    "            for song_idx, possible in enumerate(guitars[guitar_idx]):\n",
    "                print(guitar_idx, song_idx)\n",
    "                if possible == 'Y':\n",
    "                    possible_songs.add(song_idx)\n",
    "        # 모든 노래 연주 가능하면, min_guitars 업데이트\n",
    "        if len(possible_songs) == m:\n",
    "            min_guitars = min(min_guitars, len(selected_guitars))\n",
    "        return\n",
    "\n",
    "    # 이 기타는 선택 안하고 넘어가는 경우\n",
    "    find_min_guitars(start + 1, selected_guitars)\n",
    "\n",
    "    # 이 기타를 포함해서 재귀 돌리고 바로 제거하고 다른 조합 시도\n",
    "    selected_guitars.append(start)\n",
    "    find_min_guitars(start + 1, selected_guitars)\n",
    "    selected_guitars.pop()\n",
    "\n",
    "\n",
    "\n",
    "find_min_guitars(0, [])"
   ]
  },
  {
   "cell_type": "markdown",
   "metadata": {},
   "source": [
    "느낀점: 맨날 해도 모르겠다... 넘 힘들고...\n",
    "또 문제 선택을 어렵게 한 것 같다...\n",
    "아니면 내가 못하던지... \n",
    "내가 고르는 문제는 난이도가 쉽거나 어렵거나 둘 중 하나다..."
   ]
  },
  {
   "cell_type": "code",
   "execution_count": null,
   "metadata": {},
   "outputs": [],
   "source": [
    "\n",
    "n, m = map(int, input().split())\n",
    "\n",
    "guitars = [input().split()[1] for _ in range(n)]\n",
    "\n",
    "min_guitars = float('inf')\n",
    "\n",
    "def find_min_guitars(start, selected_guitars):\n",
    "    global min_guitars\n",
    "\n",
    "    # 현재 상태 출력\n",
    "    print(f\"Start: {start}, Selected: {selected_guitars}\")\n",
    "\n",
    "    # 기타 셀렉션을 다 하면\n",
    "    if start >= len(guitars):\n",
    "        covered_songs = set()\n",
    "        for idx in selected_guitars:\n",
    "            for song_index, can_play in enumerate(guitars[idx]):\n",
    "                if can_play == 'Y':\n",
    "                    covered_songs.add(song_index)\n",
    "        \n",
    "        if len(covered_songs) == m:\n",
    "            min_guitars = min(min_guitars, len(selected_guitars))\n",
    "            print(f\"Valid selection: {selected_guitars}, Total: {len(selected_guitars)}\")\n",
    "        else:\n",
    "            print(f\"Invalid selection: {selected_guitars}, Covered songs: {len(covered_songs)}\")\n",
    "        return\n",
    "\n",
    "    # 현재 기타를 선택하지 않는 경우\n",
    "    find_min_guitars(start + 1, selected_guitars)\n",
    "\n",
    "    # 현재 기타를 선택하는 경우\n",
    "    selected_guitars.append(start)\n",
    "    find_min_guitars(start + 1, selected_guitars)\n",
    "    selected_guitars.pop()\n",
    "\n",
    "# 초기 호출\n",
    "find_min_guitars(0, [])\n",
    "print(\"Minimum number of guitars needed:\", min_guitars)\n"
   ]
  },
  {
   "cell_type": "markdown",
   "metadata": {},
   "source": [
    "### 추가로 찾아볼 것\n",
    "#### 비트 마스크....................?"
   ]
  }
 ],
 "metadata": {
  "kernelspec": {
   "display_name": "aitech",
   "language": "python",
   "name": "python3"
  },
  "language_info": {
   "codemirror_mode": {
    "name": "ipython",
    "version": 3
   },
   "file_extension": ".py",
   "mimetype": "text/x-python",
   "name": "python",
   "nbconvert_exporter": "python",
   "pygments_lexer": "ipython3",
   "version": "3.12.2"
  }
 },
 "nbformat": 4,
 "nbformat_minor": 2
}
