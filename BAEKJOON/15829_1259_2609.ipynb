{
 "cells": [
  {
   "cell_type": "markdown",
   "metadata": {},
   "source": [
    "15829 Hashing"
   ]
  },
  {
   "cell_type": "code",
   "execution_count": null,
   "metadata": {},
   "outputs": [],
   "source": [
    "def calculate_hash(L, string):\n",
    "    r = 31\n",
    "    M = 1234567891\n",
    "    hash_value = 0\n",
    "    power_r = 1 \n",
    "\n",
    "    for i in range(L):\n",
    "        a_i = ord(string[i]) - ord('a') + 1\n",
    "        hash_value = (hash_value + a_i * power_r) % M\n",
    "        power_r = (power_r * r) % M\n",
    "\n",
    "    return hash_value\n",
    "\n",
    "L = int(input())  \n",
    "string = input() \n",
    "\n",
    "print(calculate_hash(L, string))\n"
   ]
  },
  {
   "cell_type": "markdown",
   "metadata": {},
   "source": [
    "1259 팰린드롬수"
   ]
  },
  {
   "cell_type": "code",
   "execution_count": null,
   "metadata": {},
   "outputs": [],
   "source": [
    "while True:\n",
    "    num = input().strip() \n",
    "    if num == '0':  \n",
    "        break\n",
    "    if num == num[::-1]:  \n",
    "        print(\"yes\")\n",
    "    else:\n",
    "        print(\"no\")"
   ]
  },
  {
   "cell_type": "markdown",
   "metadata": {},
   "source": [
    "2609 최대공약수와 최소공배수"
   ]
  },
  {
   "cell_type": "code",
   "execution_count": null,
   "metadata": {},
   "outputs": [],
   "source": [
    "import math\n",
    "\n",
    "a, b = map(int, input().split())\n",
    "\n",
    "gcd = math.gcd(a, b)\n",
    "\n",
    "lcm = (a * b) // gcd\n",
    "\n",
    "print(gcd)\n",
    "print(lcm)\n"
   ]
  }
 ],
 "metadata": {
  "kernelspec": {
   "display_name": "aitech",
   "language": "python",
   "name": "python3"
  },
  "language_info": {
   "name": "python",
   "version": "3.12.2"
  }
 },
 "nbformat": 4,
 "nbformat_minor": 2
}
