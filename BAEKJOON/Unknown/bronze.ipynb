{
 "cells": [
  {
   "cell_type": "code",
   "execution_count": null,
   "metadata": {},
   "outputs": [],
   "source": [
    "# 5337\n",
    "\n",
    "print('.  .   .')\n",
    "print('|  | _ | _. _ ._ _  _')\n",
    "print('|/\\|(/.|(_.(_)[ | )(/.')"
   ]
  },
  {
   "cell_type": "code",
   "execution_count": null,
   "metadata": {},
   "outputs": [
    {
     "name": "stdout",
     "output_type": "stream",
     "text": [
      "no\n"
     ]
    }
   ],
   "source": [
    "# 4999\n",
    "\n",
    "j = input()\n",
    "d = input()\n",
    "\n",
    "if (len(j) >= len(d)):\n",
    "    print('go')\n",
    "else:\n",
    "    print('no')"
   ]
  },
  {
   "cell_type": "code",
   "execution_count": null,
   "metadata": {},
   "outputs": [],
   "source": [
    "# 4101\n",
    "\n",
    "while True:\n",
    "    a, b = map(int, input().split())\n",
    "    if(a==0 and b==0):\n",
    "        break\n",
    "    if (a > b):\n",
    "        print('Yes')\n",
    "    else:\n",
    "        print('No')"
   ]
  },
  {
   "cell_type": "code",
   "execution_count": null,
   "metadata": {},
   "outputs": [],
   "source": [
    "# 3733\n",
    "\n",
    "result = []\n",
    "\n",
    "while True:\n",
    "    try:\n",
    "        n, s = map(int, input().split())\n",
    "        result.append(s // (n+1))\n",
    "    except:\n",
    "        for x in result:\n",
    "            print(x)\n",
    "        break"
   ]
  },
  {
   "cell_type": "code",
   "execution_count": 7,
   "metadata": {},
   "outputs": [
    {
     "name": "stdout",
     "output_type": "stream",
     "text": [
      "1 0 0 0 0 1\n"
     ]
    }
   ],
   "source": [
    "# 3003\n",
    "\n",
    "have = list(map(int, input().split()))\n",
    "must = [1, 1, 2, 2, 2, 8]\n",
    "\n",
    "print(\" \".join(map(str, [a - b for a, b in zip(must, have)])))"
   ]
  },
  {
   "cell_type": "code",
   "execution_count": null,
   "metadata": {},
   "outputs": [],
   "source": [
    "# 2744\n",
    "\n",
    "word = input()\n",
    "\n",
    "print(word.swapcase())"
   ]
  },
  {
   "cell_type": "code",
   "execution_count": null,
   "metadata": {},
   "outputs": [],
   "source": []
  }
 ],
 "metadata": {
  "kernelspec": {
   "display_name": "aitech",
   "language": "python",
   "name": "python3"
  },
  "language_info": {
   "codemirror_mode": {
    "name": "ipython",
    "version": 3
   },
   "file_extension": ".py",
   "mimetype": "text/x-python",
   "name": "python",
   "nbconvert_exporter": "python",
   "pygments_lexer": "ipython3",
   "version": "3.12.2"
  }
 },
 "nbformat": 4,
 "nbformat_minor": 2
}
