{
 "cells": [
  {
   "cell_type": "markdown",
   "metadata": {},
   "source": [
    "# 11726 2xn 타일링\n",
    "\n",
    "### 문제\n",
    "2×n 크기의 직사각형을 1×2, 2×1 타일로 채우는 방법의 수를 구하는 프로그램을 작성하시오.\n",
    "\n",
    "아래 그림은 2×5 크기의 직사각형을 채운 한 가지 방법의 예이다.\n",
    "\n",
    "\n",
    "\n",
    "### 입력\n",
    "첫째 줄에 n이 주어진다. (1 ≤ n ≤ 1,000)\n",
    "\n",
    "### 출력\n",
    "첫째 줄에 2×n 크기의 직사각형을 채우는 방법의 수를 10,007로 나눈 나머지를 출력한다.\n",
    "\n",
    "\n",
    "### 점화식\n",
    "점화식 뜻이 머임? 파이아~식임?\n",
    "\n",
    "점차, 변화하는, 식\n",
    "\n",
    "ls[n]=ls[n−1]+ls[n−2]"
   ]
  },
  {
   "cell_type": "code",
   "execution_count": 3,
   "metadata": {},
   "outputs": [
    {
     "name": "stdout",
     "output_type": "stream",
     "text": [
      "2\n"
     ]
    }
   ],
   "source": [
    "n = int(input())\n",
    "\n",
    "ls = [0]*(n+1) # 2xi일 때 1x2, 2x1로 채우는 방법의 수\n",
    "ls[1] = 1 # 2x1 일 때는 2x1 한 가지\n",
    "if n > 1: ls[2] = 2 # 2x2일 때는 [1x2, 1x2], [2x1, 2x1] 두 가지\n",
    "\n",
    "# 2x3일 때는, n-2일 때인 [2x1, 1x2, 1x2]와 n-1일 때인[1x2, 1x2, 2x1], [2x1, 2x1, 2x1]를 합하고\n",
    "# 결국 2x1일 때는 n-1을 고려하면 되고, 1x2일 때는 1x2가 두개가 필요하니까 n-2를 고려하면 되는 문제\n",
    "for i in range(3, n+1):\n",
    "    ls[i] = (ls[i-1]+ls[i-2]) % 10007\n",
    "\n",
    "print(ls[n])\n"
   ]
  },
  {
   "cell_type": "code",
   "execution_count": null,
   "metadata": {},
   "outputs": [],
   "source": []
  }
 ],
 "metadata": {
  "kernelspec": {
   "display_name": "aitech",
   "language": "python",
   "name": "python3"
  },
  "language_info": {
   "codemirror_mode": {
    "name": "ipython",
    "version": 3
   },
   "file_extension": ".py",
   "mimetype": "text/x-python",
   "name": "python",
   "nbconvert_exporter": "python",
   "pygments_lexer": "ipython3",
   "version": "3.12.7"
  }
 },
 "nbformat": 4,
 "nbformat_minor": 2
}
