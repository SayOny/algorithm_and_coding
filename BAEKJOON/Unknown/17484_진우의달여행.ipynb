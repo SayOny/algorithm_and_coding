{
 "cells": [
  {
   "cell_type": "markdown",
   "metadata": {},
   "source": [
    "# 17484 진우의 달 여행(small)\n",
    "\n",
    "### 문제\n",
    "우주비행이 꿈이였던 진우는 음식점 '매일매일싱싱'에서 열심히 일한 결과 달 여행에 필요한 자금을 모두 마련하였다! 지구와 우주사이는 n X M 행렬로 나타낼 수 있으며 각 원소의 값은 우주선이 그 공간을 지날 때 소모되는 연료의 양이다.\n",
    "\n",
    "진우는 여행경비를 아끼기 위해 조금 특이한 우주선을 선택하였다. 진우가 선택한 우주선의 특징은 아래와 같다.\n",
    "\n",
    "<img src=\"https://github.com/user-attachments/assets/025c63fc-af02-4670-b59c-35afc0fb1675\" width=\"165\" height=\"400\">\n",
    "\n",
    "1. 지구 -> 달로 가는 경우 우주선이 움직일 수 있는 방향은 아래와 같다.\n",
    "\n",
    "<img src=\"https://github.com/user-attachments/assets/e65c801e-812d-43dd-aacc-5851f0ceda59\" width=\"200\" height=\"200\">\n",
    "<img src=\"https://github.com/user-attachments/assets/3b73d6a8-1f12-4ffe-b877-c9719bde8683\" width=\"200\" height=\"200\">\n",
    "<img src=\"https://github.com/user-attachments/assets/aedc5f92-3d1f-46cb-8edf-63fa38043150\" width=\"200\" height=\"200\">\n",
    "\n",
    "2. 우주선은 전에 움직인 방향으로 움직일 수 없다. 즉, 같은 방향으로 두번 연속으로 움직일 수 없다.\n",
    "\n",
    "진우의 목표는 연료를 최대한 아끼며 지구의 어느위치에서든 출발하여 달의 어느위치든 착륙하는 것이다.\n",
    "\n",
    "최대한 돈을 아끼고 살아서 달에 도착하고 싶은 진우를 위해 달에 도달하기 위해 필요한 연료의 최소값을 계산해 주자.\n",
    "\n",
    "### 입력\n",
    "첫줄에 지구와 달 사이 공간을 나타내는 행렬의 크기를 나타내는 N, M (2≤ N, M ≤ 6)이 주어진다.\n",
    "\n",
    "다음 N줄 동안 각 행렬의 원소 값이 주어진다. 각 행렬의 원소값은 100 이하의 자연수이다.\n",
    "\n",
    "### 출력\n",
    "달 여행에 필요한 최소 연료의 값을 출력한다.\n",
    "\n"
   ]
  },
  {
   "cell_type": "code",
   "execution_count": null,
   "metadata": {},
   "outputs": [],
   "source": [
    "n, m = map(int, input().split())\n",
    "ms = [list(map(int, input().split())) for _ in range(n)]\n",
    "\n",
    "dp = [[[0,0,0] for _ in range(m)]] + [[[float('inf'),float('inf'),float('inf')] for _ in range(m)] for _ in range(n)]\n",
    " \n",
    "for i in range(1,n+1):\n",
    "    for j in range(m):\n",
    "        if j < m-1:\n",
    "            dp[i][j][0] = min(dp[i-1][j+1][1],dp[i-1][j+1][2]) + ms[i-1][j]\n",
    "        if 0 < j:\n",
    "            dp[i][j][2] = min(dp[i-1][j-1][1],dp[i-1][j-1][0]) + ms[i-1][j]\n",
    "        dp[i][j][1] = min(dp[i-1][j][0],dp[i-1][j][2]) + ms[i-1][j]\n",
    "\n",
    "answer = float('inf')\n",
    "for i in dp[n]:\n",
    "    for j in i:\n",
    "        answer = min(answer,j)\n",
    "print(answer)"
   ]
  }
 ],
 "metadata": {
  "kernelspec": {
   "display_name": "aitech",
   "language": "python",
   "name": "python3"
  },
  "language_info": {
   "name": "python",
   "version": "3.12.2"
  }
 },
 "nbformat": 4,
 "nbformat_minor": 2
}
