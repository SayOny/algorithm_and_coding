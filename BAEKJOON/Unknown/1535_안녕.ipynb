{
 "cells": [
  {
   "cell_type": "markdown",
   "metadata": {},
   "source": [
    "# 1535 안녕\n",
    "\n",
    "### 문제\n",
    "세준이는 성형수술을 한 후에 병원에 너무 오래 입원해 있었다. 이제 세준이가 병원에 입원한 동안 자기를 생각해준 사람들에게 감사하다고 말할 차례이다.\n",
    "\n",
    "세준이를 생각해준 사람은 총 N명이 있다. 사람의 번호는 1번부터 N번까지 있다. 세준이가 i번 사람에게 인사를 하면 L[i]만큼의 체력을 잃고, J[i]만큼의 기쁨을 얻는다. 세준이는 각각의 사람에게 최대 1번만 말할 수 있다.\n",
    "\n",
    "세준이의 목표는 주어진 체력내에서 최대한의 기쁨을 느끼는 것이다. 세준이의 체력은 100이고, 기쁨은 0이다. 만약 세준이의 체력이 0이나 음수가 되면, 죽어서 아무런 기쁨을 못 느낀 것이 된다. 세준이가 얻을 수 있는 최대 기쁨을 출력하는 프로그램을 작성하시오.\n",
    "\n",
    "### 입력\n",
    "첫째 줄에 사람의 수 N(≤ 20)이 들어온다. 둘째 줄에는 각각의 사람에게 인사를 할 때, 잃는 체력이 1번 사람부터 순서대로 들어오고, 셋째 줄에는 각각의 사람에게 인사를 할 때, 얻는 기쁨이 1번 사람부터 순서대로 들어온다. 체력과 기쁨은 100보다 작거나 같은 자연수 또는 0이다.\n",
    "\n",
    "### 출력\n",
    "첫째 줄에 세준이가 얻을 수 있는 최대 기쁨을 출력한다."
   ]
  },
  {
   "cell_type": "markdown",
   "metadata": {},
   "source": [
    "<hr>\n",
    "\n",
    "브루트 포스인 dfs로 풀기"
   ]
  },
  {
   "cell_type": "code",
   "execution_count": null,
   "metadata": {},
   "outputs": [],
   "source": [
    "n = int(input())\n",
    "L = list(map(int, input().split())) \n",
    "J = list(map(int, input().split())) \n",
    "\n",
    "max_joy = 0\n",
    "\n",
    "def dfs(idx, joy, health):\n",
    "    global max_joy\n",
    "\n",
    "    # 체력이 남아 있다면 기쁨 갱신\n",
    "    if idx == n and health > 0:\n",
    "        max_joy = max(max_joy, joy)\n",
    "        return \n",
    "    \n",
    "    # 체력이 0 보다 클 때\n",
    "    if health > 0:\n",
    "        dfs(idx + 1, joy + J[idx], health - L[idx])  # 이 사람을 선택\n",
    "        dfs(idx + 1, joy, health)  # 이 사람을 선택하지 않음\n",
    "    \n",
    "    return \n",
    "\n",
    "\n",
    "dfs(0, 0, 100) \n",
    "\n",
    "print(max_joy)\n"
   ]
  },
  {
   "cell_type": "markdown",
   "metadata": {},
   "source": [
    "DP로 풀기 실패 아놔.. 좀 이따 해결해보는 것으로..."
   ]
  },
  {
   "cell_type": "code",
   "execution_count": null,
   "metadata": {},
   "outputs": [
    {
     "name": "stdout",
     "output_type": "stream",
     "text": [
      "1200\n"
     ]
    }
   ],
   "source": [
    "# n = int(input())\n",
    "\n",
    "# L = [0]+list(map(int, input().split()))\n",
    "\n",
    "# J = [0]+list(map(int, input().split()))\n",
    "\n",
    "# dp = [0] * 101 # 체력에 따른 최대 기쁨\n",
    "\n",
    "# for i in range(1, n+1):\n",
    "#     for j in range(100, L[i] - 1, -1): \n",
    "#             dp[j] = max(dp[j], dp[j - L[i]] + J[i])\n",
    "\n",
    "# print(dp[100])"
   ]
  }
 ],
 "metadata": {
  "kernelspec": {
   "display_name": "aitech",
   "language": "python",
   "name": "python3"
  },
  "language_info": {
   "codemirror_mode": {
    "name": "ipython",
    "version": 3
   },
   "file_extension": ".py",
   "mimetype": "text/x-python",
   "name": "python",
   "nbconvert_exporter": "python",
   "pygments_lexer": "ipython3",
   "version": "3.12.7"
  }
 },
 "nbformat": 4,
 "nbformat_minor": 2
}
