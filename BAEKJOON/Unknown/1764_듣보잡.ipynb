{
 "cells": [
  {
   "cell_type": "markdown",
   "metadata": {},
   "source": [
    "# 1764 듣보잡\n",
    "\n",
    "### 문제\n",
    "김진영이 듣도 못한 사람의 명단과, 보도 못한 사람의 명단이 주어질 때, 듣도 보도 못한 사람의 명단을 구하는 프로그램을 작성하시오.\n",
    "\n",
    "### 입력\n",
    "첫째 줄에 듣도 못한 사람의 수 N, 보도 못한 사람의 수 M이 주어진다. 이어서 둘째 줄부터 N개의 줄에 걸쳐 듣도 못한 사람의 이름과, N+2째 줄부터 보도 못한 사람의 이름이 순서대로 주어진다. 이름은 띄어쓰기 없이 알파벳 소문자로만 이루어지며, 그 길이는 20 이하이다. N, M은 500,000 이하의 자연수이다.\n",
    "\n",
    "듣도 못한 사람의 명단에는 중복되는 이름이 없으며, 보도 못한 사람의 명단도 마찬가지이다.\n",
    "\n",
    "### 출력\n",
    "듣보잡의 수와 그 명단을 사전순으로 출력한다.\n",
    "\n",
    "<br><br><br><br><br><br><br>\n",
    "-> 교집합을 구하면 되는 아주 간단한 문제이지만, 파이썬 자료형을 잘 알고 활용할 수 있는 좋은 문제라고 생각\n",
    "\n",
    "set는 파이썬의 자료구조로 해시 테이블을 이용한다. 따라서 이 문제를 해결하기 위해 set를 사용하는 것이 좋겠다.\n",
    "\n",
    "set를 사용하면 합집합(|), 교집합(&), 차집합(-)을 아주 간단하게 계산 가능하다."
   ]
  },
  {
   "cell_type": "code",
   "execution_count": null,
   "metadata": {},
   "outputs": [
    {
     "name": "stdout",
     "output_type": "stream",
     "text": [
      "2\n",
      "baesangwook ohhenrie\n"
     ]
    }
   ],
   "source": [
    "n, m = map(int, input().split())\n",
    "\n",
    "hear = set() # set 자료형은 중복을 허락하지 않는다. 그런데 이 경우에는 각 set에서 중복은 없다고 한다.\n",
    "see = set()\n",
    "\n",
    "for _ in range(n):\n",
    "    hear.add(input())\n",
    "for _ in range(m):\n",
    "    see.add(input())\n",
    "\n",
    "answer = sorted(hear & see) # set 자료형은 순서가 없기 때문에 sorted를 하면 리스트가 반환된다.\n",
    "\n",
    "print(len(answer)) \n",
    "print(*answer) # 이렇게 하면 리스트 원소들이 언패킹 된다"
   ]
  }
 ],
 "metadata": {
  "kernelspec": {
   "display_name": "aitech",
   "language": "python",
   "name": "python3"
  },
  "language_info": {
   "codemirror_mode": {
    "name": "ipython",
    "version": 3
   },
   "file_extension": ".py",
   "mimetype": "text/x-python",
   "name": "python",
   "nbconvert_exporter": "python",
   "pygments_lexer": "ipython3",
   "version": "3.12.7"
  }
 },
 "nbformat": 4,
 "nbformat_minor": 2
}
