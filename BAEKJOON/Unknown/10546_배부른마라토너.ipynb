{
 "cells": [
  {
   "cell_type": "markdown",
   "metadata": {},
   "source": [
    "# 10546 배부른 마라토너\n",
    "\n",
    "### 문제\n",
    "마라토너라면 국적과 나이를 불문하고 누구나 참가하고 싶어하는 백준 마라톤 대회가 열린다. 42.195km를 달리는 이 마라톤은 모두가 참가하고 싶어했던 만큼 매년 모두가 완주해왔다. 단, 한 명만 빼고! \n",
    "\n",
    "모두가 참가하고 싶어서 안달인데 이런 백준 마라톤 대회에 참가해 놓고 완주하지 못한 배부른 참가자 한 명은 누굴까?\n",
    "\n",
    "### 입력\n",
    "첫째 줄에는 참가자 수 N이 주어진다. (1 ≤ N ≤ 105)\n",
    "\n",
    "N개의 줄에는 참가자의 이름이 주어진다.\n",
    "\n",
    "추가적으로 주어지는 N-1개의 줄에는 완주한 참가자의 이름이 쓰여져 있다. \n",
    "\n",
    "참가자들의 이름은 길이가 1보다 크거나 같고, 20보다 작거나 같은 문자열이고, 알파벳 소문자로만 이루어져 있다.\n",
    "\n",
    "참가자들 중엔 동명이인이 있을 수도 있다. \n",
    "\n",
    "### 출력\n",
    "마라톤을 완주하지 못한 참가자의 이름을 출력한다."
   ]
  },
  {
   "cell_type": "code",
   "execution_count": null,
   "metadata": {},
   "outputs": [
    {
     "name": "stdout",
     "output_type": "stream",
     "text": [
      "leo\n"
     ]
    }
   ],
   "source": [
    "# 딕셔너리로 푸는 방법. 아 근데 pypy3로 제출해야만 풀림 아 정말 ㅠㅠ\n",
    "\n",
    "n = int(input())  \n",
    "\n",
    "# 1. 참가자를 받아와요\n",
    "P = {}\n",
    "for i in range(n):\n",
    "    p = input()\n",
    "    if p in P:\n",
    "        P[p] += 1\n",
    "    else:\n",
    "        P[p] = 1\n",
    "\n",
    "# 2. 완주자를 받아올 때 1을 빼요\n",
    "for i in range(n - 1):\n",
    "    c = input()\n",
    "    P[c] -= 1\n",
    "\n",
    "# 3. value가 0 이상인 사람을 찾아요\n",
    "for p, cnt in P.items():\n",
    "    if cnt > 0:\n",
    "        print(p)\n",
    "        break\n"
   ]
  },
  {
   "cell_type": "code",
   "execution_count": null,
   "metadata": {},
   "outputs": [],
   "source": [
    "# 카운터를 사용한 풀이 방법. 아 근데 pypy3로 제출해야만 풀림 아 정말 ㅠㅠ\n",
    "\n",
    "from collections import Counter\n",
    "\n",
    "n = int(input())\n",
    "P = [input() for i in range(n)]\n",
    "C = [input() for i in range(n-1)]\n",
    "\n",
    "def find(P, C):\n",
    "    p_cnt = Counter(P)\n",
    "    \n",
    "    for c in C:\n",
    "        p_cnt[c] -= 1\n",
    "    \n",
    "    for p, count in p_cnt.items():\n",
    "        if count > 0:\n",
    "            return p\n",
    "        \n",
    "print(find(P, C))"
   ]
  }
 ],
 "metadata": {
  "kernelspec": {
   "display_name": "aitech",
   "language": "python",
   "name": "python3"
  },
  "language_info": {
   "codemirror_mode": {
    "name": "ipython",
    "version": 3
   },
   "file_extension": ".py",
   "mimetype": "text/x-python",
   "name": "python",
   "nbconvert_exporter": "python",
   "pygments_lexer": "ipython3",
   "version": "3.12.7"
  }
 },
 "nbformat": 4,
 "nbformat_minor": 2
}
