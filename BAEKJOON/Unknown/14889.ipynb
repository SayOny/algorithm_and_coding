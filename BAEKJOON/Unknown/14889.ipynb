{
 "cells": [
  {
   "cell_type": "markdown",
   "metadata": {},
   "source": [
    "# 스타트와 링크"
   ]
  },
  {
   "cell_type": "markdown",
   "metadata": {},
   "source": [
    "스타트팀과 링크팀의 능력치 차이의 최소값 찾기\n",
    "조합에대가 재귀해서 풀어보자\n",
    "근디 플레이어 쌍은 또 어케해야하는거즤,,,"
   ]
  },
  {
   "cell_type": "code",
   "execution_count": 9,
   "metadata": {},
   "outputs": [
    {
     "name": "stdout",
     "output_type": "stream",
     "text": [
      "2\n"
     ]
    }
   ],
   "source": [
    "import pandas as pd\n",
    "\n",
    "# 인원 수 입력\n",
    "n = int(input())\n",
    "\n",
    "# 시너지 \n",
    "s = pd.DataFrame()\n",
    "for i in range(n):\n",
    "    ls = list(map(int, input().split()))\n",
    "    for j in range(n):\n",
    "        s.loc[i, j] = ls[j]\n",
    "\n",
    "min_score = float('inf')\n",
    "\n",
    "def combination(start, start_team):\n",
    "    global min_score\n",
    "\n",
    "    if len(start_team) == n // 2:\n",
    "        link_team = [p for p in range(n) if p not in start_team]\n",
    "        \n",
    "        start_cnt = 0\n",
    "        link_cnt = 0\n",
    "\n",
    "        # 스타트 팀 능력치 \n",
    "        for i in range(len(start_team)):\n",
    "            for j in range(i + 1, len(start_team)):\n",
    "                start_cnt += (s.loc[start_team[i], start_team[j]] + s.loc[start_team[j], start_team[i]])\n",
    "\n",
    "        # 링크 팀 능력치 \n",
    "        for i in range(len(link_team)):\n",
    "            for j in range(i + 1, len(link_team)):\n",
    "                link_cnt += (s.loc[link_team[i], link_team[j]] + s.loc[link_team[j], link_team[i]])\n",
    "\n",
    "        # 능력치 차이 계산해서 최소 값이랑 비교해서 업데이트\n",
    "        score = abs(start_cnt - link_cnt)\n",
    "        min_score = min(min_score, score)  \n",
    "        return\n",
    "\n",
    "    for i in range(start, n):\n",
    "        combination(i + 1, start_team + [i])\n",
    "\n",
    "combination(0, [])\n",
    "\n",
    "print(int(min_score))\n"
   ]
  },
  {
   "cell_type": "markdown",
   "metadata": {},
   "source": [
    "# 아.. 백준에서는 판다스 안되는구나하하하하하하ㅏ"
   ]
  },
  {
   "cell_type": "code",
   "execution_count": null,
   "metadata": {},
   "outputs": [],
   "source": [
    "# 인원 수 입력\n",
    "n = int(input())\n",
    "\n",
    "# 시너지 \n",
    "s = []\n",
    "for i in range(n):\n",
    "    ls = list(map(int, input().split()))\n",
    "    s.append(ls)\n",
    "\n",
    "min_score = float('inf')\n",
    "\n",
    "def combination(start, start_team):\n",
    "    global min_score\n",
    "\n",
    "    if len(start_team) == n // 2:\n",
    "        link_team = [p for p in range(n) if p not in start_team]\n",
    "        \n",
    "        start_cnt = 0\n",
    "        link_cnt = 0\n",
    "\n",
    "        # 스타트 팀 능력치 \n",
    "        for i in range(len(start_team)):\n",
    "            for j in range(i + 1, len(start_team)):\n",
    "                start_cnt += (s[start_team[i]][start_team[j]] + s[start_team[j]][start_team[i]])\n",
    "\n",
    "        # 링크 팀 능력치 \n",
    "        for i in range(len(link_team)):\n",
    "            for j in range(i + 1, len(link_team)):\n",
    "                link_cnt += (s[link_team[i]][link_team[j]] + s[link_team[j]][link_team[i]])\n",
    "\n",
    "        # 능력치 차이 계산해서 최소 값이랑 비교해서 업데이트\n",
    "        score = abs(start_cnt - link_cnt)\n",
    "        min_score = min(min_score, score)  \n",
    "        return\n",
    "\n",
    "    for i in range(start, n):\n",
    "        combination(i + 1, start_team + [i])\n",
    "\n",
    "combination(0, [])\n",
    "\n",
    "print(int(min_score))\n"
   ]
  },
  {
   "cell_type": "markdown",
   "metadata": {},
   "source": [
    "생각한대로 풀었더니 바로 되어서 기분 좋음"
   ]
  },
  {
   "cell_type": "markdown",
   "metadata": {},
   "source": []
  }
 ],
 "metadata": {
  "kernelspec": {
   "display_name": "aitech",
   "language": "python",
   "name": "python3"
  },
  "language_info": {
   "codemirror_mode": {
    "name": "ipython",
    "version": 3
   },
   "file_extension": ".py",
   "mimetype": "text/x-python",
   "name": "python",
   "nbconvert_exporter": "python",
   "pygments_lexer": "ipython3",
   "version": "3.12.2"
  }
 },
 "nbformat": 4,
 "nbformat_minor": 2
}
