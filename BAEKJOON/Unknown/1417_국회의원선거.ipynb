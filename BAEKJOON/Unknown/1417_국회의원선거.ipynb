{
 "cells": [
  {
   "cell_type": "markdown",
   "metadata": {},
   "source": [
    "# 1417 국회의원 선거\n",
    "\n",
    "### 문제\n",
    "다솜이는 사람의 마음을 읽을 수 있는 기계를 가지고 있다. 다솜이는 이 기계를 이용해서 2008년 4월 9일 국회의원 선거를 조작하려고 한다.\n",
    "\n",
    "다솜이의 기계는 각 사람들이 누구를 찍을 지 미리 읽을 수 있다. 어떤 사람이 누구를 찍을 지 정했으면, 반드시 선거때 그 사람을 찍는다.\n",
    "\n",
    "현재 형택구에 나온 국회의원 후보는 n명이다. 다솜이는 이 기계를 이용해서 그 마을의 주민 M명의 마음을 모두 읽었다.\n",
    "\n",
    "다솜이는 기호 1번이다. 다솜이는 사람들의 마음을 읽어서 자신을 찍지 않으려는 사람을 돈으로 매수해서 국회의원에 당선이 되게 하려고 한다. 다른 모든 사람의 득표수 보다 많은 득표수를 가질 때, 그 사람이 국회의원에 당선된다.\n",
    "\n",
    "예를 들어서, 마음을 읽은 결과 기호 1번이 5표, 기호 2번이 7표, 기호 3번이 7표 라고 한다면, 다솜이는 2번 후보를 찍으려고 하던 사람 1명과, 3번 후보를 찍으려고 하던 사람 1명을 돈으로 매수하면, 국회의원에 당선이 된다.\n",
    "\n",
    "돈으로 매수한 사람은 반드시 다솜이를 찍는다고 가정한다.\n",
    "\n",
    "다솜이가 매수해야하는 사람의 최솟값을 출력하는 프로그램을 작성하시오.\n",
    "\n",
    "### 입력\n",
    "첫째 줄에 후보의 수 N이 주어진다. 둘째 줄부터 차례대로 기호 1번을 찍으려고 하는 사람의 수, 기호 2번을 찍으려고 하는 수, 이렇게 총 N개의 줄에 걸쳐 입력이 들어온다. N은 50보다 작거나 같은 자연수이고, 득표수는 100보다 작거나 같은 자연수이다.\n",
    "\n",
    "### 출력\n",
    "첫째 줄에 다솜이가 매수해야 하는 사람의 최솟값을 출력한다.\n"
   ]
  },
  {
   "cell_type": "code",
   "execution_count": 2,
   "metadata": {},
   "outputs": [
    {
     "name": "stdout",
     "output_type": "stream",
     "text": [
      "2\n"
     ]
    }
   ],
   "source": [
    "import heapq\n",
    "\n",
    "n = int(input())  \n",
    "votes = [int(input()) for _ in range(n)]  \n",
    "\n",
    "def cal_buy():\n",
    "    dasom_votes = votes[0]\n",
    "\n",
    "    other_votes = [-votes[i] for i in range(1, n)]  \n",
    "    heapq.heapify(other_votes)\n",
    "\n",
    "    buy_count = 0\n",
    "\n",
    "    while other_votes:\n",
    "        max_vote = -heapq.heappop(other_votes)\n",
    "        \n",
    "        if dasom_votes > max_vote:\n",
    "            break\n",
    "        \n",
    "        dasom_votes += 1\n",
    "        buy_count += 1\n",
    "\n",
    "        heapq.heappush(other_votes, -(max_vote - 1))\n",
    "    \n",
    "    return buy_count\n",
    "\n",
    "\n",
    "print(cal_buy())\n"
   ]
  },
  {
   "cell_type": "markdown",
   "metadata": {},
   "source": [
    "굳이굳이 우선순위 큐를 이용하기 위해 노력했다. 그리고 파이썬 힙은.. 최소힙이래 그래서 음수로 바꿔야함 ㅋㅋ 아놔"
   ]
  }
 ],
 "metadata": {
  "kernelspec": {
   "display_name": "aitech",
   "language": "python",
   "name": "python3"
  },
  "language_info": {
   "codemirror_mode": {
    "name": "ipython",
    "version": 3
   },
   "file_extension": ".py",
   "mimetype": "text/x-python",
   "name": "python",
   "nbconvert_exporter": "python",
   "pygments_lexer": "ipython3",
   "version": "3.12.7"
  }
 },
 "nbformat": 4,
 "nbformat_minor": 2
}
