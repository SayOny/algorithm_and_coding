{
 "cells": [
  {
   "cell_type": "markdown",
   "metadata": {},
   "source": [
    "# 24511 queuestack\n",
    "\n",
    "### 문제\n",
    "한가롭게 방학에 놀고 있던 도현이는 갑자기 재밌는 자료구조를 생각해냈다. 그 자료구조의 이름은 queuestack이다.\n",
    "\n",
    "queuestack의 구조는 다음과 같다. $1$번, $2$번, ... , $N$번의 자료구조(queue 혹은 stack)가 나열되어있으며, 각각의 자료구조에는 한 개의 원소가 들어있다.\n",
    "\n",
    "queuestack의 작동은 다음과 같다.\n",
    "\n",
    "* $x_0$을 입력받는다.\n",
    "\n",
    "* $x_0$을 $1$번 자료구조에 삽입한 뒤 $1$번 자료구조에서 원소를 pop한다. 그때 pop된 원소를 $x_1$이라 한다.\n",
    "\n",
    "* $x_1$을 $2$번 자료구조에 삽입한 뒤 $2$번 자료구조에서 원소를 pop한다. 그때 pop된 원소를 $x_2$이라 한다.\n",
    "\n",
    "...\n",
    "\n",
    "* $x_{N-1}$을 $N$번 자료구조에 삽입한 뒤 $N$번 자료구조에서 원소를 pop한다. 그때 pop된 원소를 $x_N$이라 한다.\n",
    " \n",
    "* $x_N$을 리턴한다.\n",
    "\n",
    "도현이는 길이 $M$의 수열 $C$를 가져와서 수열의 원소를 앞에서부터 차례대로 queuestack에 삽입할 것이다. 이전에 삽입한 결과는 남아 있다. (예제 $1$ 참고)\n",
    "\n",
    "queuestack에 넣을 원소들이 주어졌을 때, 해당 원소를 넣은 리턴값을 출력하는 프로그램을 작성해보자.\n",
    "\n",
    "### 입력\n",
    "첫째 줄에 queuestack을 구성하는 자료구조의 개수 $N$이 주어진다. ($1 \\leq N \\leq 100\\,000$)\n",
    "\n",
    "둘째 줄에 길이 $N$의 수열 $A$가 주어진다. $i$번 자료구조가 큐라면 $A_i = 0$, 스택이라면 $A_i = 1$이다.\n",
    "\n",
    "셋째 줄에 길이 $N$의 수열 $B$가 주어진다. $B_i$는 $i$번 자료구조에 들어 있는 원소이다. ($1 \\leq B_i \\leq 1\\,000\\,000\\,000$)\n",
    "\n",
    "넷째 줄에 삽입할 수열의 길이 $M$이 주어진다. ($1 \\leq M \\leq 100\\,000$)\n",
    "\n",
    "다섯째 줄에 queuestack에 삽입할 원소를 담고 있는 길이 $M$의 수열 $C$가 주어진다. ($1 \\leq C_i \\leq 1\\,000\\,000\\,000$)\n",
    "\n",
    "입력으로 주어지는 모든 수는 정수이다.\n",
    "\n",
    "### 출력\n",
    "수열 $C$의 원소를 차례대로 queuestack에 삽입했을 때의 리턴값을 공백으로 구분하여 출력한다.\n",
    "\n",
    "\n",
    "\n",
    "<br><br><br><br><br><br><br>\n",
    "\n",
    "뭔 말인지 이해가 정말 가지 않았는데, 이해했다.\n",
    "\n",
    "결국 큐일 때는 들어있던 원소가 나오고, 스택일 때는 그냥 새로 삽입되는 원소가 계속 pop이 되기 때문에 그대로 있으면 되는 거임~\n",
    "\n",
    "각 자료구조마다 원소가 하나여서 아주 쉬워보였지만, 효율적인 코드를 위해 deque를 사용해야하는 문제였다.\n",
    "\n",
    "C++에서도 결국 deque를 쓰면 될 것 같다 ^.^"
   ]
  },
  {
   "cell_type": "code",
   "execution_count": null,
   "metadata": {},
   "outputs": [
    {
     "name": "stdout",
     "output_type": "stream",
     "text": [
      "[4, 1, 2]\n"
     ]
    }
   ],
   "source": [
    "# 시간 초과가 걸리는 방법: 시간 복잡도 O(n*m)\n",
    "\n",
    "n = int(input())\n",
    "a = list(map(int, input().split())) # 길이 n, 0이면 큐, 1이면 스택\n",
    "b = list(map(int, input().split())) # 길이 n, 큐 스택의 원소들\n",
    "m = int(input())\n",
    "c = list(map(int, input().split())) # 길이 m, 새로 삽입할 원소\n",
    "\n",
    "r = []\n",
    "for i in c:\n",
    "    pop = i # 원소는 1~100000의 값을 가짐\n",
    "\n",
    "    for j in range(n):\n",
    "        if a[j] == 0: # 큐일 때\n",
    "            tmp = pop\n",
    "            pop = b[j]\n",
    "            b[j] = tmp\n",
    "        elif a[j] == 1: # 스택일 때 걍 할 거 없음\n",
    "            continue\n",
    "\n",
    "    r.append(pop)\n",
    "print(r)"
   ]
  },
  {
   "cell_type": "code",
   "execution_count": null,
   "metadata": {},
   "outputs": [],
   "source": [
    "# deque를 이용한 방법\n",
    "\n",
    "from collections import deque\n",
    "\n",
    "n = int(input())\n",
    "a = list(map(int, input().split())) # 길이 n, 0이면 큐, 1이면 스택\n",
    "b = list(map(int, input().split())) # 길이 n, 큐 스택의 원소들\n",
    "m = int(input())\n",
    "c = list(map(int, input().split())) # 길이 m, 새로 삽입할 원소\n",
    "\n",
    "\n",
    "# 스택 제외하고 담아준 뒤, (이 순서와 반대로 return할 것이다.)\n",
    "queue = deque()\n",
    "for i in range(n):\n",
    "  if a[i] == 0:\n",
    "    queue.append(b[i])\n",
    "\n",
    "# 큐에 새로운 원소를 left로 넣고 큐를 pop 해준다. 그러면 위에 이미 있던 원소들이 나가고 난 뒤에 새로운 원소가 나갈 것이다.\n",
    "for i in range(m):\n",
    "  queue.appendleft(c[i])\n",
    "  print(queue.pop(), end = \" \")\n"
   ]
  }
 ],
 "metadata": {
  "kernelspec": {
   "display_name": "aitech",
   "language": "python",
   "name": "python3"
  },
  "language_info": {
   "codemirror_mode": {
    "name": "ipython",
    "version": 3
   },
   "file_extension": ".py",
   "mimetype": "text/x-python",
   "name": "python",
   "nbconvert_exporter": "python",
   "pygments_lexer": "ipython3",
   "version": "3.12.7"
  }
 },
 "nbformat": 4,
 "nbformat_minor": 2
}
