{
 "cells": [
  {
   "cell_type": "markdown",
   "metadata": {},
   "source": [
    "# 문제\n",
    "요즘 민규네 동네에서는 스타트링크에서 만든 PS카드를 모으는 것이 유행이다.\n",
    "\n",
    "PS카드는 PS(Problem Solving)분야에서 유명한 사람들의 아이디와 얼굴이 적혀있는 카드이다. 각각의 카드에는 등급을 나타내는 색이 칠해져 있고, 다음과 같이 8가지가 있다.\n",
    "\n",
    "전<span style=\"color:red\">설카드 </span>\n",
    "\n",
    "<span style=\"color:red\"> 레드카드 </span>\n",
    "\n",
    "<span style=\"color:orange\"> 오렌지카드 </span>\n",
    "\n",
    "<span style=\"color:purple\"> 퍼플카드 </span>\n",
    "\n",
    "<span style=\"color:blue\"> 블루카드 </span>\n",
    "\n",
    "<span style=\"color:teal\"> 청록카드 </span>\n",
    "\n",
    "<span style=\"color:green\"> 그린카드 </span>\n",
    "\n",
    "<span style=\"color:gray\"> 그레이카드 </span>\n",
    "\n",
    "\n",
    "카드는 카드팩의 형태로만 구매할 수 있고, 카드팩의 종류는 카드 1개가 포함된 카드팩, 카드 2개가 포함된 카드팩, ... 카드 N개가 포함된 카드팩과 같이 총 N가지가 존재한다.\n",
    "\n",
    "민규는 카드의 개수가 적은 팩이더라도 가격이 비싸면 높은 등급의 카드가 많이 들어있을 것이라는 미신을 믿고 있다. 따라서, 민규는 돈을 최대한 많이 지불해서 카드 N개 구매하려고 한다. 카드가 i개 포함된 카드팩의 가격은 Pi원이다.\n",
    "\n",
    "예를 들어, 카드팩이 총 4가지 종류가 있고, P1 = 1, P2 = 5, P3 = 6, P4 = 7인 경우에 민규가 카드 4개를 갖기 위해 지불해야 하는 금액의 최댓값은 10원이다. 2개 들어있는 카드팩을 2번 사면 된다.\n",
    "\n",
    "P1 = 5, P2 = 2, P3 = 8, P4 = 10인 경우에는 카드가 1개 들어있는 카드팩을 4번 사면 20원이고, 이 경우가 민규가 지불해야 하는 금액의 최댓값이다.\n",
    "\n",
    "마지막으로, P1 = 3, P2 = 5, P3 = 15, P4 = 16인 경우에는 3개 들어있는 카드팩과 1개 들어있는 카드팩을 구매해 18원을 지불하는 것이 최댓값이다.\n",
    "\n",
    "카드 팩의 가격이 주어졌을 때, N개의 카드를 구매하기 위해 민규가 지불해야 하는 금액의 최댓값을 구하는 프로그램을 작성하시오. N개보다 많은 개수의 카드를 산 다음, 나머지 카드를 버려서 N개를 만드는 것은 불가능하다. 즉, 구매한 카드팩에 포함되어 있는 카드 개수의 합은 N과 같아야 한다.\n",
    "\n",
    "# 입력\n",
    "첫째 줄에 민규가 구매하려고 하는 카드의 개수 N이 주어진다. (1 ≤ N ≤ 1,000)\n",
    "\n",
    "둘째 줄에는 Pi가 P1부터 PN까지 순서대로 주어진다. (1 ≤ Pi ≤ 10,000)\n",
    "\n",
    "# 출력\n",
    "첫째 줄에 민규가 카드 N개를 갖기 위해 지불해야 하는 금액의 최댓값을 출력한다.\n",
    "\n",
    "\n"
   ]
  },
  {
   "cell_type": "code",
   "execution_count": 27,
   "metadata": {},
   "outputs": [
    {
     "name": "stdout",
     "output_type": "stream",
     "text": [
      "10\n"
     ]
    }
   ],
   "source": [
    "n = int(input())\n",
    "p = list(map(int, input().split()))\n",
    "\n",
    "dp = [0] * (n+1) # 카드가 x개일 때 최대값\n",
    "\n",
    "for i in range(1, n+1):\n",
    "    for j in range(1, i+1):\n",
    "        dp[i] = max(dp[i-j] + p[j-1], dp[i])\n",
    "        \n",
    "print(dp[n])"
   ]
  },
  {
   "cell_type": "code",
   "execution_count": 59,
   "metadata": {},
   "outputs": [
    {
     "name": "stdout",
     "output_type": "stream",
     "text": [
      "1 장짜리 '하나'를 꼭 포함하여 1 장을 살 때의 최대값은, dp[ 1 ] = max(dp[ 1 - 1 ]+p[ 1 ]은 0 + 1 ,dp[ 1 ]은 0 )\n",
      "[0, 1, 0, 0, 0]\n",
      "\n",
      "1 장짜리 '하나'를 꼭 포함하여 2 장을 살 때의 최대값은, dp[ 2 ] = max(dp[ 2 - 1 ]+p[ 1 ]은 1 + 1 ,dp[ 2 ]은 0 )\n",
      "[0, 1, 2, 0, 0]\n",
      "2 장짜리 '하나'를 꼭 포함하여 2 장을 살 때의 최대값은, dp[ 2 ] = max(dp[ 2 - 2 ]+p[ 2 ]은 0 + 5 ,dp[ 2 ]은 2 )\n",
      "[0, 1, 5, 0, 0]\n",
      "\n",
      "1 장짜리 '하나'를 꼭 포함하여 3 장을 살 때의 최대값은, dp[ 3 ] = max(dp[ 3 - 1 ]+p[ 1 ]은 5 + 1 ,dp[ 3 ]은 0 )\n",
      "[0, 1, 5, 6, 0]\n",
      "2 장짜리 '하나'를 꼭 포함하여 3 장을 살 때의 최대값은, dp[ 3 ] = max(dp[ 3 - 2 ]+p[ 2 ]은 1 + 5 ,dp[ 3 ]은 6 )\n",
      "[0, 1, 5, 6, 0]\n",
      "3 장짜리 '하나'를 꼭 포함하여 3 장을 살 때의 최대값은, dp[ 3 ] = max(dp[ 3 - 3 ]+p[ 3 ]은 0 + 6 ,dp[ 3 ]은 6 )\n",
      "[0, 1, 5, 6, 0]\n",
      "\n",
      "1 장짜리 '하나'를 꼭 포함하여 4 장을 살 때의 최대값은, dp[ 4 ] = max(dp[ 4 - 1 ]+p[ 1 ]은 6 + 1 ,dp[ 4 ]은 0 )\n",
      "[0, 1, 5, 6, 7]\n",
      "2 장짜리 '하나'를 꼭 포함하여 4 장을 살 때의 최대값은, dp[ 4 ] = max(dp[ 4 - 2 ]+p[ 2 ]은 5 + 5 ,dp[ 4 ]은 7 )\n",
      "[0, 1, 5, 6, 10]\n",
      "3 장짜리 '하나'를 꼭 포함하여 4 장을 살 때의 최대값은, dp[ 4 ] = max(dp[ 4 - 3 ]+p[ 3 ]은 1 + 6 ,dp[ 4 ]은 10 )\n",
      "[0, 1, 5, 6, 10]\n",
      "4 장짜리 '하나'를 꼭 포함하여 4 장을 살 때의 최대값은, dp[ 4 ] = max(dp[ 4 - 4 ]+p[ 4 ]은 0 + 7 ,dp[ 4 ]은 10 )\n",
      "[0, 1, 5, 6, 10]\n",
      "\n",
      "10\n"
     ]
    }
   ],
   "source": [
    "n = int(input())\n",
    "p = [0]+list(map(int, input().split())) # 설명을 위해 인덱스 맞추기 위해 0번째 인덱스를 추가\n",
    "\n",
    "dp = [0] * (n+1) # 카드가 x개일 때 최대값\n",
    "\n",
    "for i in range(1, n+1):\n",
    "    for j in range(1, i+1):\n",
    "        print(j,\"장짜리 '하나'를 꼭 포함하여\",i, \"장을 살 때의 최대값은,\", \"dp[\",i, \"] = max(dp[\",i, \"-\", j, \"]+p[\",j,\"]은\",dp[i-j],\"+\",p[j],',dp[',i,\"]은\",dp[i],')')\n",
    "        dp[i] = max(dp[i-j] + p[j], dp[i]) \n",
    "        print(dp)\n",
    "    print()\n",
    "        \n",
    "print(dp[n])"
   ]
  },
  {
   "cell_type": "markdown",
   "metadata": {},
   "source": [
    "dp를 사용하여 풀 수 있는 문제라는 것을 알고, 점화식을 찾기 위해 노력했지만 1시간 이내로 찾지 못해 아쉽게도 gpt에게 힌트를 받아 풀게 되었다. \n",
    "\n",
    "이번 문제는 i장 살 때 최대값을 구하는데, (1 to j)장 짜리 카드팩을 포함하는 경우, (i-(1 to j))장은 어떻게 최대값으로 구성할지를 이전에 구했던 dp 배열에서 가져오면 된다."
   ]
  }
 ],
 "metadata": {
  "kernelspec": {
   "display_name": "aitech",
   "language": "python",
   "name": "python3"
  },
  "language_info": {
   "codemirror_mode": {
    "name": "ipython",
    "version": 3
   },
   "file_extension": ".py",
   "mimetype": "text/x-python",
   "name": "python",
   "nbconvert_exporter": "python",
   "pygments_lexer": "ipython3",
   "version": "3.12.7"
  }
 },
 "nbformat": 4,
 "nbformat_minor": 2
}
