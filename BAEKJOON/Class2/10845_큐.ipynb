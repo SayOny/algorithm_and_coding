{
 "cells": [
  {
   "cell_type": "markdown",
   "metadata": {},
   "source": [
    "문제\n",
    "\n",
    "정수를 저장하는 큐를 구현한 다음, 입력으로 주어지는 명령을 처리하는 프로그램을 작성하시오.\n",
    "\n",
    "명령은 총 여섯 가지이다.\n",
    "\n",
    "* push X: 정수 X를 큐에 넣는 연산이다.\n",
    "* pop: 큐에서 가장 앞에 있는 정수를 빼고, 그 수를 출력한다. 만약 큐에 들어있는 정수가 없는 경우에는 -1을 출력한다.\n",
    "* size: 큐에 들어있는 정수의 개수를 출력한다.\n",
    "* empty: 큐가 비어있으면 1, 아니면 0을 출력한다.\n",
    "* front: 큐의 가장 앞에 있는 정수를 출력한다. 만약 큐에 들어있는 정수가 없는 경우에는 -1을 출력한다.\n",
    "* back: 큐의 가장 뒤에 있는 정수를 출력한다. 만약 큐에 들어있는 정수가 없는 경우에는 -1을 출력한다.\n",
    "\n",
    "입력\n",
    "\n",
    "첫째 줄에 주어지는 명령의 수 N (1 ≤ N ≤ 10,000)이 주어진다. 둘째 줄부터 N개의 줄에는 명령이 하나씩 주어진다. 주어지는 정수는 1보다 크거나 같고, 100,000보다 작거나 같다. 문제에 나와있지 않은 명령이 주어지는 경우는 없다.\n",
    "\n",
    "출력\n",
    "\n",
    "출력해야하는 명령이 주어질 때마다, 한 줄에 하나씩 출력한다."
   ]
  },
  {
   "cell_type": "code",
   "execution_count": null,
   "metadata": {},
   "outputs": [],
   "source": [
    "import sys\n",
    "from collections import deque\n",
    "\n",
    "stack = deque()\n",
    "\n",
    "input = sys.stdin.read\n",
    "data = input().splitlines()\n",
    "\n",
    "n = int(data[0])\n",
    "\n",
    "for i in range(1, n + 1):\n",
    "    s = data[i]\n",
    "    if \"push\" in s:\n",
    "        stack.append(s.split()[1])\n",
    "    elif s == \"pop\":\n",
    "        if stack:\n",
    "            print(stack.popleft())\n",
    "        else:\n",
    "            print(-1)\n",
    "    elif s == \"size\":\n",
    "        print(len(stack))\n",
    "    elif s == \"empty\":\n",
    "        if stack:\n",
    "            print(0)\n",
    "        else:\n",
    "            print(1)\n",
    "    elif s == \"front\":\n",
    "        if stack:\n",
    "            print(stack[0])\n",
    "        else:\n",
    "            print(-1)\n",
    "    elif s == \"back\":\n",
    "        if stack:\n",
    "            print(stack[-1])\n",
    "        else:\n",
    "            print(-1)\n"
   ]
  }
 ],
 "metadata": {
  "kernelspec": {
   "display_name": "aitech",
   "language": "python",
   "name": "python3"
  },
  "language_info": {
   "name": "python",
   "version": "3.12.2"
  }
 },
 "nbformat": 4,
 "nbformat_minor": 2
}
