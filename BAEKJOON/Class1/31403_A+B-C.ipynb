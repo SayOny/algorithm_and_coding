{
 "cells": [
  {
   "cell_type": "markdown",
   "metadata": {},
   "source": [
    "# 31403 A+B-C\n",
    "\n",
    "문제\n",
    "\n",
    "JavaScript에서 $+, -$은 수에 대해서는 일반적인 의미의 덧셈 뺄셈의 의미를 가지고 있습니다. 하지만 문자열에 대해서 $+$는 두 문자열을 이어붙이라는 의미이고, $-$는 양쪽 문자열을 수로 해석한 이후에 빼라는 의미입니다.\n",
    "\n",
    " $A, B, C$를 각각 수와 문자열로 생각했을 때 $A+B-C$를 출력하세요.\n",
    "\n",
    "입력\n",
    "\n",
    "첫 줄에는 정수 $A$가 주어집니다. $(1 \\le A \\le 1\\,000)$ \n",
    "\n",
    "둘째 줄에는 정수 $B$가 주어집니다. $(1 \\le B \\le 1\\,000)$ \n",
    "\n",
    "셋째 줄에는 정수 $C$가 주어집니다. $(1 \\le C \\le 1\\,000)$ \n",
    "\n",
    "주어지는 모든 수는 $0$으로 시작하지 않는 양의 정수입니다.\n",
    "\n",
    "출력\n",
    "\n",
    "첫 줄에는 $A, B, C$를 수로 생각했을 때, $A+B-C$를 출력하세요.\n",
    "\n",
    "둘째 줄에는 $A, B, C$를 문자열로 생각했을 때, $A+B-C$를 출력하세요."
   ]
  },
  {
   "cell_type": "code",
   "execution_count": 8,
   "metadata": {},
   "outputs": [
    {
     "name": "stdout",
     "output_type": "stream",
     "text": [
      "2\n",
      "29\n"
     ]
    }
   ],
   "source": [
    "A = input()\n",
    "B = input()\n",
    "C = input()\n",
    "\n",
    "print(int(A)+int(B)-int(C))\n",
    "print(int(A+B)-int(C))"
   ]
  }
 ],
 "metadata": {
  "kernelspec": {
   "display_name": "aitech",
   "language": "python",
   "name": "python3"
  },
  "language_info": {
   "codemirror_mode": {
    "name": "ipython",
    "version": 3
   },
   "file_extension": ".py",
   "mimetype": "text/x-python",
   "name": "python",
   "nbconvert_exporter": "python",
   "pygments_lexer": "ipython3",
   "version": "3.12.2"
  }
 },
 "nbformat": 4,
 "nbformat_minor": 2
}
