{
 "cells": [
  {
   "cell_type": "markdown",
   "metadata": {},
   "source": [
    "# 25083 새싹\n",
    "\n",
    "문제\n",
    "\n",
    "아래 예제와 같이 새싹을 출력하시오.\n",
    "\n",
    "입력\n",
    "\n",
    "입력은 없다.\n",
    "\n",
    "출력\n",
    "\n",
    "새싹을 출력한다."
   ]
  },
  {
   "cell_type": "code",
   "execution_count": 2,
   "metadata": {},
   "outputs": [
    {
     "name": "stdout",
     "output_type": "stream",
     "text": [
      "         ,r'\"7\n",
      "r`-_   ,'  ,/\n",
      " \\. \". L_r'\n",
      "   `~\\/\n",
      "      |\n",
      "      |\n"
     ]
    },
    {
     "name": "stderr",
     "output_type": "stream",
     "text": [
      "<>:3: SyntaxWarning: invalid escape sequence '\\.'\n",
      "<>:4: SyntaxWarning: invalid escape sequence '\\/'\n",
      "<>:3: SyntaxWarning: invalid escape sequence '\\.'\n",
      "<>:4: SyntaxWarning: invalid escape sequence '\\/'\n",
      "/var/folders/3_/zwr2_55j7cz0wkmr9f_9jfvh0000gn/T/ipykernel_80667/173065488.py:3: SyntaxWarning: invalid escape sequence '\\.'\n",
      "  print(\" \\. \\\". L_r\\'\")\n",
      "/var/folders/3_/zwr2_55j7cz0wkmr9f_9jfvh0000gn/T/ipykernel_80667/173065488.py:4: SyntaxWarning: invalid escape sequence '\\/'\n",
      "  print(\"   `~\\/\")\n"
     ]
    }
   ],
   "source": [
    "print('         ,r\\'\"7')\n",
    "print(\"r`-_   ,\\'  ,/\")\n",
    "print(\" \\. \\\". L_r\\'\")\n",
    "print(\"   `~\\/\")\n",
    "print(\"      |\")\n",
    "print(\"      |\")"
   ]
  },
  {
   "cell_type": "code",
   "execution_count": null,
   "metadata": {},
   "outputs": [],
   "source": []
  }
 ],
 "metadata": {
  "kernelspec": {
   "display_name": "aitech",
   "language": "python",
   "name": "python3"
  },
  "language_info": {
   "codemirror_mode": {
    "name": "ipython",
    "version": 3
   },
   "file_extension": ".py",
   "mimetype": "text/x-python",
   "name": "python",
   "nbconvert_exporter": "python",
   "pygments_lexer": "ipython3",
   "version": "3.12.2"
  }
 },
 "nbformat": 4,
 "nbformat_minor": 2
}
